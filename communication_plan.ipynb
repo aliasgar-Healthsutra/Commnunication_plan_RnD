{
 "cells": [
  {
   "cell_type": "markdown",
   "id": "e2dde9c0",
   "metadata": {},
   "source": [
    "Communication plan based on lab report"
   ]
  },
  {
   "cell_type": "code",
   "execution_count": null,
   "id": "3b53e56c",
   "metadata": {},
   "outputs": [],
   "source": [
    "pip install google-genai python-dotenv"
   ]
  },
  {
   "cell_type": "code",
   "execution_count": 3,
   "id": "9d10fdbc",
   "metadata": {},
   "outputs": [],
   "source": [
    "import os\n",
    "from dotenv import load_dotenv\n",
    "from datetime import datetime\n",
    "\n",
    "from google import genai\n",
    "from google.genai import types"
   ]
  },
  {
   "cell_type": "code",
   "execution_count": null,
   "id": "9ed9da42",
   "metadata": {},
   "outputs": [],
   "source": [
    "load_dotenv()\n",
    "API_KEY = os.getenv(\"GEMINI_API_KEY\")\n",
    "\n",
    "client = genai.Client(api_key=API_KEY)"
   ]
  },
  {
   "cell_type": "code",
   "execution_count": 5,
   "id": "c6e5d102",
   "metadata": {},
   "outputs": [],
   "source": [
    "def upload_file(filepath):\n",
    "    uploaded_file = client.files.upload(file=filepath)\n",
    "    print(f\"File uploaded successfully: {uploaded_file}\")\n",
    "    return uploaded_file"
   ]
  },
  {
   "cell_type": "code",
   "execution_count": 33,
   "id": "2233eb04",
   "metadata": {},
   "outputs": [
    {
     "name": "stdout",
     "output_type": "stream",
     "text": [
      "File uploaded successfully: name='files/xzl1r5cvkwsj' display_name=None mime_type='application/pdf' size_bytes=148211 create_time=datetime.datetime(2025, 6, 16, 11, 2, 50, 46636, tzinfo=TzInfo(UTC)) expiration_time=datetime.datetime(2025, 6, 18, 11, 2, 50, 2060, tzinfo=TzInfo(UTC)) update_time=datetime.datetime(2025, 6, 16, 11, 2, 50, 46636, tzinfo=TzInfo(UTC)) sha256_hash='NWY4MzU5OTdkZDlhMTQ0ZTY3NGQ0ZDA0YzNiNzcxYmJjOTE1MjA3NWRlZDUxYmNhZDdiY2EzMjhjMWQ2NWFjMA==' uri='https://generativelanguage.googleapis.com/v1beta/files/xzl1r5cvkwsj' download_uri=None state=<FileState.ACTIVE: 'ACTIVE'> source=<FileSource.UPLOADED: 'UPLOADED'> video_metadata=None error=None\n",
      "name='files/xzl1r5cvkwsj' display_name=None mime_type='application/pdf' size_bytes=148211 create_time=datetime.datetime(2025, 6, 16, 11, 2, 50, 46636, tzinfo=TzInfo(UTC)) expiration_time=datetime.datetime(2025, 6, 18, 11, 2, 50, 2060, tzinfo=TzInfo(UTC)) update_time=datetime.datetime(2025, 6, 16, 11, 2, 50, 46636, tzinfo=TzInfo(UTC)) sha256_hash='NWY4MzU5OTdkZDlhMTQ0ZTY3NGQ0ZDA0YzNiNzcxYmJjOTE1MjA3NWRlZDUxYmNhZDdiY2EzMjhjMWQ2NWFjMA==' uri='https://generativelanguage.googleapis.com/v1beta/files/xzl1r5cvkwsj' download_uri=None state=<FileState.ACTIVE: 'ACTIVE'> source=<FileSource.UPLOADED: 'UPLOADED'> video_metadata=None error=None\n"
     ]
    }
   ],
   "source": [
    "file_path = \"./reports/Mr. Samuel Joglekar_lab.pdf\"\n",
    "uploaded_file = upload_file(file_path)\n",
    "print(uploaded_file)"
   ]
  },
  {
   "cell_type": "code",
   "execution_count": 36,
   "id": "a3f49933",
   "metadata": {},
   "outputs": [],
   "source": [
    "def load_prompt(prompt_path):\n",
    "    with open(prompt_path, \"r\", encoding=\"utf-8\") as f:\n",
    "        return f.read()\n",
    "\n",
    "system_prompt_path = \"system_prompt.txt\"\n",
    "user_prompt_path = \"user_prompt.txt\"\n",
    "system_prompt = load_prompt(system_prompt_path)\n",
    "user_prompt = load_prompt(user_prompt_path)\n"
   ]
  },
  {
   "cell_type": "code",
   "execution_count": 37,
   "id": "286f108f",
   "metadata": {},
   "outputs": [],
   "source": [
    "full_prompt = system_prompt + \"\\n\" + user_prompt\n",
    "\n",
    "contents = [\n",
    "    types.Content(\n",
    "        role=\"user\",\n",
    "        parts=[\n",
    "            types.Part(text=full_prompt),\n",
    "            types.Part(file_data=types.FileData(file_uri=uploaded_file.uri))\n",
    "        ]\n",
    "    )\n",
    "]\n",
    "\n"
   ]
  },
  {
   "cell_type": "code",
   "execution_count": 38,
   "id": "043c9c5a",
   "metadata": {},
   "outputs": [],
   "source": [
    "# Generate response\n",
    "response = client.models.generate_content(\n",
    "    model=\"models/gemini-2.5-flash-preview-05-20\",\n",
    "    contents=contents,\n",
    "    config=types.GenerateContentConfig(\n",
    "        temperature=0.3,\n",
    "        max_output_tokens=20000,\n",
    "    )\n",
    ")\n",
    "generated_text = response.text\n"
   ]
  },
  {
   "cell_type": "code",
   "execution_count": 12,
   "id": "52ea312e",
   "metadata": {},
   "outputs": [],
   "source": [
    "import re\n",
    "\n",
    "def remove_asterisks(text):\n",
    "    # Remove all double asterisks\n",
    "    return re.sub(r'\\*\\*(.*?)\\*\\*', r'\\1', text)\n"
   ]
  },
  {
   "cell_type": "code",
   "execution_count": 39,
   "id": "f52bc1b6",
   "metadata": {},
   "outputs": [],
   "source": [
    "# Save full interaction to log file\n",
    "def save_log(response, log_path=\"gemini_2.5_healthcare_log3.txt\"):\n",
    "    response = remove_asterisks(response)\n",
    "    with open(log_path, \"a\", encoding=\"utf-8\") as f:\n",
    "        f.write(\"\\n\\n\" + response)\n",
    "\n",
    "save_log(generated_text)\n"
   ]
  },
  {
   "cell_type": "code",
   "execution_count": 40,
   "id": "07f94823",
   "metadata": {},
   "outputs": [
    {
     "name": "stdout",
     "output_type": "stream",
     "text": [
      "File deleted successfully: files/xzl1r5cvkwsj\n"
     ]
    }
   ],
   "source": [
    "# delete file after processing\n",
    "def delete_file(file):\n",
    "    client.files.delete(name=file.name)\n",
    "    print(f\"File deleted successfully: {file.name}\")\n",
    "\n",
    "# Now delete using uploaded_file.id, not name:\n",
    "delete_file(uploaded_file)\n"
   ]
  }
 ],
 "metadata": {
  "kernelspec": {
   "display_name": "Python 3",
   "language": "python",
   "name": "python3"
  },
  "language_info": {
   "codemirror_mode": {
    "name": "ipython",
    "version": 3
   },
   "file_extension": ".py",
   "mimetype": "text/x-python",
   "name": "python",
   "nbconvert_exporter": "python",
   "pygments_lexer": "ipython3",
   "version": "3.10.11"
  }
 },
 "nbformat": 4,
 "nbformat_minor": 5
}
