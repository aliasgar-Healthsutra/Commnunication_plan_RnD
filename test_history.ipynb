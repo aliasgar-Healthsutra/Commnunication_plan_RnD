{
 "cells": [
  {
   "cell_type": "code",
   "execution_count": null,
   "id": "e675ddc1",
   "metadata": {},
   "outputs": [],
   "source": [
    "pip install google-genai python-dotenv"
   ]
  },
  {
   "cell_type": "code",
   "execution_count": 1,
   "id": "1854b563",
   "metadata": {},
   "outputs": [],
   "source": [
    "import os\n",
    "import json\n",
    "from dotenv import load_dotenv\n",
    "from datetime import datetime\n",
    "\n",
    "from google import genai\n",
    "from google.genai import types"
   ]
  },
  {
   "cell_type": "code",
   "execution_count": 2,
   "id": "cb2b80ba",
   "metadata": {},
   "outputs": [],
   "source": [
    "load_dotenv()\n",
    "API_KEY = os.getenv(\"GEMINI_API_KEY\")\n",
    "\n",
    "client = genai.Client(api_key=API_KEY)"
   ]
  },
  {
   "cell_type": "code",
   "execution_count": 6,
   "id": "54a3c34a",
   "metadata": {},
   "outputs": [],
   "source": [
    "def upload_file(filepath):\n",
    "    uploaded_file = client.files.upload(file=filepath)\n",
    "    print(f\"✅ File uploaded: {uploaded_file.uri}\")\n",
    "    return uploaded_file"
   ]
  },
  {
   "cell_type": "code",
   "execution_count": 20,
   "id": "a2b5d191",
   "metadata": {},
   "outputs": [
    {
     "name": "stdout",
     "output_type": "stream",
     "text": [
      "✅ File uploaded: https://generativelanguage.googleapis.com/v1beta/files/fhwg1d21po9c\n",
      "name='files/fhwg1d21po9c' display_name=None mime_type='application/pdf' size_bytes=122135 create_time=datetime.datetime(2025, 6, 18, 19, 21, 31, 794131, tzinfo=TzInfo(UTC)) expiration_time=datetime.datetime(2025, 6, 20, 19, 21, 31, 750681, tzinfo=TzInfo(UTC)) update_time=datetime.datetime(2025, 6, 18, 19, 21, 31, 794131, tzinfo=TzInfo(UTC)) sha256_hash='Nzc0OTIxMjAyZWM4M2ViYmYyMGNlMTc4MTAwMjAxMDQzN2I2YWQ1ZTMwZmI1Mzc5MTg4OWE0M2EzMTU0ZmMxMQ==' uri='https://generativelanguage.googleapis.com/v1beta/files/fhwg1d21po9c' download_uri=None state=<FileState.ACTIVE: 'ACTIVE'> source=<FileSource.UPLOADED: 'UPLOADED'> video_metadata=None error=None\n"
     ]
    }
   ],
   "source": [
    "file_path = \"./reports/sugar-12-24.pdf\"\n",
    "\n",
    "# Step 1: Upload file\n",
    "uploaded_file = upload_file(file_path)\n",
    "print(uploaded_file)"
   ]
  },
  {
   "cell_type": "code",
   "execution_count": 8,
   "id": "a8ff626e",
   "metadata": {},
   "outputs": [],
   "source": [
    "# Load prompt template\n",
    "def load_prompt(template_path):\n",
    "    with open(template_path, \"r\", encoding=\"utf-8\") as f:\n",
    "        return f.read()\n",
    "\n",
    "prompt_template = load_prompt(\"extraction_prompt.template\")"
   ]
  },
  {
   "cell_type": "code",
   "execution_count": 21,
   "id": "749feb5b",
   "metadata": {},
   "outputs": [],
   "source": [
    "def get_extracted_json(prompt, uploaded_file_uri):\n",
    "    contents = [\n",
    "        types.Content(\n",
    "            role=\"user\",\n",
    "            parts=[\n",
    "                types.Part(text=prompt),\n",
    "                types.Part(file_data=types.FileData(file_uri=uploaded_file_uri))\n",
    "            ]\n",
    "        )\n",
    "    ]\n",
    "    response = client.models.generate_content(\n",
    "        model=\"models/gemini-2.5-flash-preview-05-20\",\n",
    "        contents=contents,\n",
    "        config=types.GenerateContentConfig(\n",
    "            temperature=0.3,\n",
    "            max_output_tokens=20000,\n",
    "        )\n",
    "    )\n",
    "    return response.candidates[0].content.parts[0].text\n",
    "\n",
    "raw_output = get_extracted_json(prompt_template, uploaded_file.uri)"
   ]
  },
  {
   "cell_type": "code",
   "execution_count": 10,
   "id": "4731ad8d",
   "metadata": {},
   "outputs": [],
   "source": [
    "def extract_json_from_markdown(text):\n",
    "    if \"```json\" in text:\n",
    "        json_data = text.split(\"```json\")[1].split(\"```\")[0].strip()\n",
    "    elif \"```\" in text:\n",
    "        json_data = text.split(\"```\")[1].strip()\n",
    "    else:\n",
    "        json_data = text.strip()\n",
    "    return json.loads(json_data)"
   ]
  },
  {
   "cell_type": "code",
   "execution_count": 22,
   "id": "53f0b3da",
   "metadata": {},
   "outputs": [],
   "source": [
    "#Clean JSON output\n",
    "cleaned_json = extract_json_from_markdown(raw_output)\n",
    "\n",
    "output_json_path = \"extracted_report.json\"\n"
   ]
  },
  {
   "cell_type": "code",
   "execution_count": 23,
   "id": "f26657d9",
   "metadata": {},
   "outputs": [
    {
     "name": "stdout",
     "output_type": "stream",
     "text": [
      "✅ Extracted JSON saved to extracted_report.json\n"
     ]
    }
   ],
   "source": [
    "# Save to JSON file\n",
    "output_dir = os.path.dirname(output_json_path)\n",
    "if output_dir:\n",
    "    os.makedirs(output_dir, exist_ok=True)\n",
    "with open(output_json_path, \"w\", encoding=\"utf-8\") as f:\n",
    "    json.dump(cleaned_json, f, indent=2)\n",
    "print(f\"✅ Extracted JSON saved to {output_json_path}\")"
   ]
  },
  {
   "cell_type": "code",
   "execution_count": 24,
   "id": "7b9a4649",
   "metadata": {},
   "outputs": [
    {
     "name": "stdout",
     "output_type": "stream",
     "text": [
      "File deleted successfully: files/fhwg1d21po9c\n"
     ]
    }
   ],
   "source": [
    "# delete file after processing\n",
    "def delete_file(file):\n",
    "    client.files.delete(name=file.name)\n",
    "    print(f\"File deleted successfully: {file.name}\")\n",
    "\n",
    "# Now delete using uploaded_file.id, not name:\n",
    "delete_file(uploaded_file)"
   ]
  }
 ],
 "metadata": {
  "kernelspec": {
   "display_name": "Python 3",
   "language": "python",
   "name": "python3"
  },
  "language_info": {
   "codemirror_mode": {
    "name": "ipython",
    "version": 3
   },
   "file_extension": ".py",
   "mimetype": "text/x-python",
   "name": "python",
   "nbconvert_exporter": "python",
   "pygments_lexer": "ipython3",
   "version": "3.10.11"
  }
 },
 "nbformat": 4,
 "nbformat_minor": 5
}
